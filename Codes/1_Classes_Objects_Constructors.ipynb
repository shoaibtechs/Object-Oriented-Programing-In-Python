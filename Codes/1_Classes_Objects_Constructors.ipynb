{
 "cells": [
  {
   "cell_type": "code",
   "execution_count": 2,
   "id": "7593d70a",
   "metadata": {},
   "outputs": [],
   "source": [
    "class Employee:\n",
    "    \n",
    "    \n",
    "    #Constructor \n",
    "    \n",
    "    def __init__(self,fname,lname,salary):\n",
    "        self.fname = fname\n",
    "        self.lname = lname\n",
    "        self.salary = salary\n",
    "    \n",
    "shoaib =  Employee('shoaib', 'akhtar', 100000)\n",
    "waleed =  Employee('waleed','chatta',200000)\n",
    "        "
   ]
  },
  {
   "cell_type": "code",
   "execution_count": 13,
   "id": "5ff0a0f5",
   "metadata": {},
   "outputs": [
    {
     "name": "stdout",
     "output_type": "stream",
     "text": [
      "Employee-1\n",
      "\n",
      "First Name: shoaib \n",
      "last Name:  akhtar \n",
      "Salary:     100000 \n",
      "\n",
      "Employee-2\n",
      "\n",
      "First Name: waleed \n",
      "last Name:  chatta \n",
      "Salary:     200000\n"
     ]
    }
   ],
   "source": [
    "print(\"Employee-1\\n\")\n",
    "\n",
    "print(\"First Name:\", shoaib.fname,\"\\nlast Name: \", shoaib.lname,\"\\nSalary:    \",shoaib.salary,\"\\n\")\n",
    "\n",
    "print(\"Employee-2\\n\")\n",
    "\n",
    "print(\"First Name:\", waleed.fname,\"\\nlast Name: \", waleed.lname,\"\\nSalary:    \",waleed.salary)"
   ]
  },
  {
   "cell_type": "code",
   "execution_count": null,
   "id": "2fab5f3d",
   "metadata": {},
   "outputs": [],
   "source": []
  },
  {
   "cell_type": "code",
   "execution_count": null,
   "id": "c1dc458b",
   "metadata": {},
   "outputs": [],
   "source": []
  }
 ],
 "metadata": {
  "kernelspec": {
   "display_name": "Python 3 (ipykernel)",
   "language": "python",
   "name": "python3"
  },
  "language_info": {
   "codemirror_mode": {
    "name": "ipython",
    "version": 3
   },
   "file_extension": ".py",
   "mimetype": "text/x-python",
   "name": "python",
   "nbconvert_exporter": "python",
   "pygments_lexer": "ipython3",
   "version": "3.9.12"
  }
 },
 "nbformat": 4,
 "nbformat_minor": 5
}
